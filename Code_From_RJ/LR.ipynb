{
 "cells": [
  {
   "cell_type": "code",
   "execution_count": 2,
   "id": "c5b8de63",
   "metadata": {},
   "outputs": [],
   "source": [
    "import pandas as pd\n",
    "\n",
    "df = pd.read_csv(r\"C:\\Users\\RAZER\\Downloads\\score_updated.csv\")"
   ]
  },
  {
   "cell_type": "code",
   "execution_count": 7,
   "id": "8e4b5b56",
   "metadata": {},
   "outputs": [
    {
     "data": {
      "text/html": [
       "<div>\n",
       "<style scoped>\n",
       "    .dataframe tbody tr th:only-of-type {\n",
       "        vertical-align: middle;\n",
       "    }\n",
       "\n",
       "    .dataframe tbody tr th {\n",
       "        vertical-align: top;\n",
       "    }\n",
       "\n",
       "    .dataframe thead th {\n",
       "        text-align: right;\n",
       "    }\n",
       "</style>\n",
       "<table border=\"1\" class=\"dataframe\">\n",
       "  <thead>\n",
       "    <tr style=\"text-align: right;\">\n",
       "      <th></th>\n",
       "      <th>Hours</th>\n",
       "      <th>Scores</th>\n",
       "    </tr>\n",
       "  </thead>\n",
       "  <tbody>\n",
       "    <tr>\n",
       "      <th>0</th>\n",
       "      <td>2.5</td>\n",
       "      <td>21</td>\n",
       "    </tr>\n",
       "    <tr>\n",
       "      <th>1</th>\n",
       "      <td>5.1</td>\n",
       "      <td>47</td>\n",
       "    </tr>\n",
       "    <tr>\n",
       "      <th>2</th>\n",
       "      <td>3.2</td>\n",
       "      <td>27</td>\n",
       "    </tr>\n",
       "    <tr>\n",
       "      <th>3</th>\n",
       "      <td>8.5</td>\n",
       "      <td>75</td>\n",
       "    </tr>\n",
       "    <tr>\n",
       "      <th>4</th>\n",
       "      <td>3.5</td>\n",
       "      <td>30</td>\n",
       "    </tr>\n",
       "    <tr>\n",
       "      <th>...</th>\n",
       "      <td>...</td>\n",
       "      <td>...</td>\n",
       "    </tr>\n",
       "    <tr>\n",
       "      <th>91</th>\n",
       "      <td>5.8</td>\n",
       "      <td>60</td>\n",
       "    </tr>\n",
       "    <tr>\n",
       "      <th>92</th>\n",
       "      <td>4.4</td>\n",
       "      <td>44</td>\n",
       "    </tr>\n",
       "    <tr>\n",
       "      <th>93</th>\n",
       "      <td>6.1</td>\n",
       "      <td>63</td>\n",
       "    </tr>\n",
       "    <tr>\n",
       "      <th>94</th>\n",
       "      <td>3.7</td>\n",
       "      <td>37</td>\n",
       "    </tr>\n",
       "    <tr>\n",
       "      <th>95</th>\n",
       "      <td>8.0</td>\n",
       "      <td>84</td>\n",
       "    </tr>\n",
       "  </tbody>\n",
       "</table>\n",
       "<p>96 rows × 2 columns</p>\n",
       "</div>"
      ],
      "text/plain": [
       "    Hours  Scores\n",
       "0     2.5      21\n",
       "1     5.1      47\n",
       "2     3.2      27\n",
       "3     8.5      75\n",
       "4     3.5      30\n",
       "..    ...     ...\n",
       "91    5.8      60\n",
       "92    4.4      44\n",
       "93    6.1      63\n",
       "94    3.7      37\n",
       "95    8.0      84\n",
       "\n",
       "[96 rows x 2 columns]"
      ]
     },
     "execution_count": 7,
     "metadata": {},
     "output_type": "execute_result"
    }
   ],
   "source": [
    "df"
   ]
  },
  {
   "cell_type": "markdown",
   "id": "633bda2b",
   "metadata": {},
   "source": [
    "# Split"
   ]
  },
  {
   "cell_type": "markdown",
   "id": "2b4da9a1",
   "metadata": {},
   "source": [
    "## Spliting in x and y"
   ]
  },
  {
   "cell_type": "code",
   "execution_count": 6,
   "id": "9dc5a490",
   "metadata": {},
   "outputs": [],
   "source": [
    "X = df[\"Hours\"].values\n",
    "y = df[\"Scores\"].values"
   ]
  },
  {
   "cell_type": "markdown",
   "id": "692f7071",
   "metadata": {},
   "source": [
    "## Spliting In Training and Testing"
   ]
  },
  {
   "cell_type": "code",
   "execution_count": 21,
   "id": "edfe1f44",
   "metadata": {},
   "outputs": [],
   "source": [
    "from sklearn.model_selection import train_test_split\n",
    "\n",
    "X_train, X_test, y_train, y_test = train_test_split(X, y, test_size = 0.2, random_state = 42)"
   ]
  },
  {
   "cell_type": "code",
   "execution_count": 16,
   "id": "7256b9a8",
   "metadata": {},
   "outputs": [
    {
     "data": {
      "text/plain": [
       "(76,)"
      ]
     },
     "execution_count": 16,
     "metadata": {},
     "output_type": "execute_result"
    }
   ],
   "source": [
    "X_train.shape"
   ]
  },
  {
   "cell_type": "code",
   "execution_count": 17,
   "id": "3f55c642",
   "metadata": {},
   "outputs": [
    {
     "data": {
      "text/plain": [
       "(20,)"
      ]
     },
     "execution_count": 17,
     "metadata": {},
     "output_type": "execute_result"
    }
   ],
   "source": [
    "X_test.shape"
   ]
  },
  {
   "cell_type": "markdown",
   "id": "21331031",
   "metadata": {},
   "source": [
    "# Teaining"
   ]
  },
  {
   "cell_type": "code",
   "execution_count": 19,
   "id": "d3379259",
   "metadata": {},
   "outputs": [
    {
     "name": "stdout",
     "output_type": "stream",
     "text": [
      "9.835635077805753\n",
      "2.4405655921340568\n"
     ]
    }
   ],
   "source": [
    "from sklearn.linear_model import LinearRegression\n",
    "\n",
    "\n",
    "\n",
    "#reshaping\n",
    "X_train_reshaped = X_train.reshape(-1,1)\n",
    "X_test_reshaped = X_test.reshape(-1,1)\n",
    "\n",
    "#Model Declaration\n",
    "lin_model = LinearRegression()\n",
    "\n",
    "#Training\n",
    "lin_model.fit(X_train_reshaped, y_train)\n",
    "\n",
    "m_sk = lin_model.coef_[0]\n",
    "c_sk = lin_model.intercept_\n",
    "\n",
    "print(m_sk)\n",
    "print(c_sk)"
   ]
  },
  {
   "cell_type": "markdown",
   "id": "64e9032d",
   "metadata": {},
   "source": [
    "# Evaluation"
   ]
  },
  {
   "cell_type": "markdown",
   "id": "e6a10717",
   "metadata": {},
   "source": [
    "## Testing"
   ]
  },
  {
   "cell_type": "code",
   "execution_count": 28,
   "id": "d850d542",
   "metadata": {},
   "outputs": [],
   "source": [
    "y_prediction_test = lin_model.predict(X_test_reshaped)"
   ]
  },
  {
   "cell_type": "code",
   "execution_count": 29,
   "id": "79639fc9",
   "metadata": {},
   "outputs": [
    {
     "data": {
      "text/plain": [
       "array([28.01321679, 50.63517747, 31.94747083, 38.83241538, 82.10920972,\n",
       "       87.02702726, 76.20782868, 68.33932061, 27.02965329, 78.17495569,\n",
       "       55.55299501, 18.17758172, 62.43793957, 36.86528836, 90.96128129,\n",
       "       95.87909883, 46.70092344, 39.81597889, 37.84885187, 51.61874098])"
      ]
     },
     "execution_count": 29,
     "metadata": {},
     "output_type": "execute_result"
    }
   ],
   "source": [
    "y_prediction_test"
   ]
  },
  {
   "cell_type": "code",
   "execution_count": 30,
   "id": "26e9fbb0",
   "metadata": {},
   "outputs": [
    {
     "data": {
      "text/plain": [
       "array([32, 51, 27, 37, 82, 89, 70, 71, 21, 85, 55, 19, 67, 30, 92, 90, 41,\n",
       "       35, 36, 52])"
      ]
     },
     "execution_count": 30,
     "metadata": {},
     "output_type": "execute_result"
    }
   ],
   "source": [
    "y_test"
   ]
  },
  {
   "cell_type": "markdown",
   "id": "e91b737a",
   "metadata": {},
   "source": [
    "## mean_absolute_error, mean_square_error, R2_score"
   ]
  },
  {
   "cell_type": "code",
   "execution_count": 34,
   "id": "72dc6c10",
   "metadata": {},
   "outputs": [
    {
     "name": "stdout",
     "output_type": "stream",
     "text": [
      "Mean Absolute Error:  3.3702236454952397\n",
      "Mean Squared Error:  17.007444250866516\n",
      "R^2 Score:  0.9708871356050831\n"
     ]
    }
   ],
   "source": [
    "from sklearn.metrics import  mean_absolute_error,mean_squared_error,r2_score\n",
    "\n",
    "mae = mean_absolute_error(y_test, y_prediction_test)\n",
    "mse = mean_squared_error(y_test, y_prediction_test)\n",
    "r2 = r2_score(y_test, y_prediction_test)\n",
    "\n",
    "\n",
    "print(\"Mean Absolute Error: \",mae)\n",
    "print(\"Mean Squared Error: \",mse)\n",
    "print(\"R^2 Score: \",r2)"
   ]
  },
  {
   "cell_type": "markdown",
   "id": "38fd698d",
   "metadata": {},
   "source": [
    "## Training"
   ]
  },
  {
   "cell_type": "code",
   "execution_count": 31,
   "id": "414fbbf0",
   "metadata": {},
   "outputs": [],
   "source": [
    "y_prediction_train = lin_model.predict(X_train_reshaped)"
   ]
  },
  {
   "cell_type": "code",
   "execution_count": 32,
   "id": "d0a01405",
   "metadata": {},
   "outputs": [
    {
     "data": {
      "text/plain": [
       "array([20.14470873, 96.86266234, 89.97771778, 69.32288412, 31.94747083,\n",
       "       28.9967803 , 45.71735993, 60.47081255, 42.76666941, 47.68448695,\n",
       "       25.06252627, 88.01059077, 44.73379643, 17.19401821, 74.24070166,\n",
       "       58.50368554, 24.07896276, 27.02965329, 32.93103433, 40.7995424 ,\n",
       "       56.53655852, 59.48724904, 59.48724904, 75.22426517, 57.52012203,\n",
       "       43.75023292, 71.29001114, 34.89816135, 79.1585192 , 86.04346375,\n",
       "       21.12827224, 54.5694315 , 84.07633674, 14.24332769, 92.92840831,\n",
       "       35.88172486, 72.27357464, 41.7831059 , 85.05990025, 81.12564621,\n",
       "       26.04608978, 38.83241538, 29.98034381, 83.09277323, 81.12564621,\n",
       "       16.2104547 , 93.91197182, 62.43793957, 97.84622585, 94.89553532,\n",
       "       53.585868  , 15.22689119, 61.45437606, 19.16114522, 63.42150307,\n",
       "       98.82978935, 65.38863009, 23.09539926, 73.25713815, 64.40506658,\n",
       "       48.66805046, 52.60230449, 67.35575711, 49.65161397, 33.91459784,\n",
       "       70.30644763, 22.11183575, 30.96390732, 69.32288412, 12.27620067,\n",
       "       28.9967803 , 77.19139218, 66.3721936 , 13.25976418, 45.71735993,\n",
       "       80.14208271])"
      ]
     },
     "execution_count": 32,
     "metadata": {},
     "output_type": "execute_result"
    }
   ],
   "source": [
    "y_prediction_train"
   ]
  },
  {
   "cell_type": "code",
   "execution_count": 33,
   "id": "36ebd6c4",
   "metadata": {},
   "outputs": [
    {
     "data": {
      "text/plain": [
       "array([21, 98, 95, 74, 34, 25, 45, 62, 44, 48, 23, 87, 43, 20, 77, 59, 22,\n",
       "       30, 28, 38, 60, 60, 63, 69, 57, 49, 73, 42, 86, 75, 24, 56, 81, 14,\n",
       "       88, 33, 73, 40, 84, 84, 26, 37, 29, 83, 79, 15, 94, 63, 96, 93, 53,\n",
       "       16, 61, 18, 68, 99, 64, 20, 72, 66, 50, 47, 72, 54, 27, 76, 18, 31,\n",
       "       67, 12, 30, 78, 65, 17, 44, 80])"
      ]
     },
     "execution_count": 33,
     "metadata": {},
     "output_type": "execute_result"
    }
   ],
   "source": [
    "y_train"
   ]
  },
  {
   "cell_type": "markdown",
   "id": "3967d529",
   "metadata": {},
   "source": [
    "## mean_absolute_error,mean_squared_error,r2_score"
   ]
  },
  {
   "cell_type": "code",
   "execution_count": 35,
   "id": "8cf2017c",
   "metadata": {},
   "outputs": [
    {
     "name": "stdout",
     "output_type": "stream",
     "text": [
      "Mean Absolute Error:  2.4084933698218722\n",
      "Mean Squared Error:  10.202649265960442\n",
      "R^2 Score:  0.9837693861888686\n"
     ]
    }
   ],
   "source": [
    "from sklearn.metrics import  mean_absolute_error,mean_squared_error,r2_score\n",
    "\n",
    "mae = mean_absolute_error(y_train, y_prediction_train)\n",
    "mse = mean_squared_error(y_train, y_prediction_train)\n",
    "r2 = r2_score(y_train, y_prediction_train)\n",
    "\n",
    "\n",
    "print(\"Mean Absolute Error: \",mae)\n",
    "print(\"Mean Squared Error: \",mse)\n",
    "print(\"R^2 Score: \",r2)"
   ]
  },
  {
   "cell_type": "markdown",
   "id": "63ce179a",
   "metadata": {},
   "source": [
    "# For single value predictions"
   ]
  },
  {
   "cell_type": "code",
   "execution_count": 41,
   "id": "a9144830",
   "metadata": {},
   "outputs": [
    {
     "name": "stdout",
     "output_type": "stream",
     "text": [
      "The predicted Score: [31.94747083]\n"
     ]
    }
   ],
   "source": [
    "data = float(input())\n",
    "\n",
    "single_prediction = lin_model.predict([[data]])\n",
    "\n",
    "print(\"The predicted Score:\",single_prediction)"
   ]
  },
  {
   "cell_type": "markdown",
   "id": "40659fa2",
   "metadata": {},
   "source": [
    "# Saving the Model"
   ]
  },
  {
   "cell_type": "code",
   "execution_count": 44,
   "id": "9418b3f1",
   "metadata": {},
   "outputs": [
    {
     "data": {
      "text/plain": [
       "['LR_study_hours_score_RJ.pkl']"
      ]
     },
     "execution_count": 44,
     "metadata": {},
     "output_type": "execute_result"
    }
   ],
   "source": [
    "import joblib\n",
    "\n",
    "joblib.dump(lin_model, \"LR_study_hours_score_RJ.pkl\")"
   ]
  },
  {
   "cell_type": "code",
   "execution_count": null,
   "id": "c5bcfb05",
   "metadata": {},
   "outputs": [],
   "source": []
  }
 ],
 "metadata": {
  "kernelspec": {
   "display_name": "sha",
   "language": "python",
   "name": "python3"
  },
  "language_info": {
   "codemirror_mode": {
    "name": "ipython",
    "version": 3
   },
   "file_extension": ".py",
   "mimetype": "text/x-python",
   "name": "python",
   "nbconvert_exporter": "python",
   "pygments_lexer": "ipython3",
   "version": "3.10.16"
  }
 },
 "nbformat": 4,
 "nbformat_minor": 5
}

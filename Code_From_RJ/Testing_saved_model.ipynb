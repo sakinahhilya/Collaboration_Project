{
 "cells": [
  {
   "cell_type": "markdown",
   "id": "f64f5193",
   "metadata": {},
   "source": [
    "# Loading Model"
   ]
  },
  {
   "cell_type": "code",
   "execution_count": null,
   "id": "ac3b2dc8",
   "metadata": {},
   "outputs": [],
   "source": [
    "import joblib\n",
    "\n",
    "loaded_model = joblib.load(r\"C:\\Users\\RAZER\\Documents\\GitHub_2\\Collaboration_Project\\Linear_Regression\\LR_study_hours_score_SHA.pkl\")\n"
   ]
  },
  {
   "cell_type": "code",
   "execution_count": 5,
   "id": "a9eee194",
   "metadata": {},
   "outputs": [
    {
     "name": "stdout",
     "output_type": "stream",
     "text": [
      "the predictions: [31.94747083]\n"
     ]
    }
   ],
   "source": [
    "new_data = float(input())\n",
    "\n",
    "predicted_value = loaded_model.predict([[new_data]])\n",
    "\n",
    "print(\"the predictions:\",predicted_value)"
   ]
  },
  {
   "cell_type": "code",
   "execution_count": null,
   "id": "6af1ab61",
   "metadata": {},
   "outputs": [],
   "source": []
  }
 ],
 "metadata": {
  "kernelspec": {
   "display_name": "sha",
   "language": "python",
   "name": "python3"
  },
  "language_info": {
   "codemirror_mode": {
    "name": "ipython",
    "version": 3
   },
   "file_extension": ".py",
   "mimetype": "text/x-python",
   "name": "python",
   "nbconvert_exporter": "python",
   "pygments_lexer": "ipython3",
   "version": "3.10.16"
  }
 },
 "nbformat": 4,
 "nbformat_minor": 5
}

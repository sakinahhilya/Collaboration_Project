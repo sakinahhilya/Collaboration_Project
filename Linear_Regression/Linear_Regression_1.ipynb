{
 "cells": [
  {
   "cell_type": "code",
   "execution_count": 1,
   "id": "ba431c72",
   "metadata": {},
   "outputs": [
    {
     "name": "stdout",
     "output_type": "stream",
     "text": [
      "Hi! Welcome\n"
     ]
    }
   ],
   "source": [
    "print (\"Hi! Welcome\")"
   ]
  },
  {
   "cell_type": "code",
   "execution_count": 3,
   "id": "16b4edb4",
   "metadata": {},
   "outputs": [],
   "source": [
    "import pandas as pd\n",
    "\n",
    "df = pd.read_csv(\"https://raw.githubusercontent.com/RafsanJany-44/Machine-School/refs/heads/main/datasets/EEG_HMC.csv\")"
   ]
  },
  {
   "cell_type": "code",
   "execution_count": 4,
   "id": "d45f39e5",
   "metadata": {},
   "outputs": [
    {
     "data": {
      "text/html": [
       "<div>\n",
       "<style scoped>\n",
       "    .dataframe tbody tr th:only-of-type {\n",
       "        vertical-align: middle;\n",
       "    }\n",
       "\n",
       "    .dataframe tbody tr th {\n",
       "        vertical-align: top;\n",
       "    }\n",
       "\n",
       "    .dataframe thead th {\n",
       "        text-align: right;\n",
       "    }\n",
       "</style>\n",
       "<table border=\"1\" class=\"dataframe\">\n",
       "  <thead>\n",
       "    <tr style=\"text-align: right;\">\n",
       "      <th></th>\n",
       "      <th>Sleep_Stage</th>\n",
       "      <th>MeanP_Alpha_F4</th>\n",
       "      <th>MedianF_Alpha_F4</th>\n",
       "      <th>MeanF_Alpha_F4</th>\n",
       "      <th>Spectral Edge_Alpha_F4</th>\n",
       "      <th>PeakF_Alpha_F4</th>\n",
       "      <th>MeanP_Beta_F4</th>\n",
       "      <th>MedianF_Beta_F4</th>\n",
       "      <th>MeanF_Beta_F4</th>\n",
       "      <th>Spectral Edge_Beta_F4</th>\n",
       "      <th>...</th>\n",
       "      <th>MeanP_Delta_O2</th>\n",
       "      <th>MedianF_Delta_O2</th>\n",
       "      <th>MeanF_Delta_O2</th>\n",
       "      <th>Spectral Edge_Delta_O2</th>\n",
       "      <th>PeakF_Delta_O2</th>\n",
       "      <th>MeanP_Gamma_O2</th>\n",
       "      <th>MedianF_Gamma_O2</th>\n",
       "      <th>MeanF_Gamma_O2</th>\n",
       "      <th>Spectral Edge_Gamma_O2</th>\n",
       "      <th>PeakF_Gamma_O2</th>\n",
       "    </tr>\n",
       "  </thead>\n",
       "  <tbody>\n",
       "    <tr>\n",
       "      <th>0</th>\n",
       "      <td>W</td>\n",
       "      <td>0.00051</td>\n",
       "      <td>8.74146</td>\n",
       "      <td>18.48195</td>\n",
       "      <td>17.48293</td>\n",
       "      <td>8.24195</td>\n",
       "      <td>0.00071</td>\n",
       "      <td>19.73073</td>\n",
       "      <td>29.84585</td>\n",
       "      <td>33.84195</td>\n",
       "      <td>...</td>\n",
       "      <td>0.00724</td>\n",
       "      <td>0.74927</td>\n",
       "      <td>3.87122</td>\n",
       "      <td>1.99805</td>\n",
       "      <td>0.87415</td>\n",
       "      <td>0.000210</td>\n",
       "      <td>35.21561</td>\n",
       "      <td>42.20878</td>\n",
       "      <td>49.95122</td>\n",
       "      <td>49.95122</td>\n",
       "    </tr>\n",
       "    <tr>\n",
       "      <th>1</th>\n",
       "      <td>W</td>\n",
       "      <td>0.00040</td>\n",
       "      <td>10.24000</td>\n",
       "      <td>17.48293</td>\n",
       "      <td>16.85854</td>\n",
       "      <td>10.61463</td>\n",
       "      <td>0.00051</td>\n",
       "      <td>17.23317</td>\n",
       "      <td>26.34927</td>\n",
       "      <td>29.34634</td>\n",
       "      <td>...</td>\n",
       "      <td>0.00723</td>\n",
       "      <td>0.49951</td>\n",
       "      <td>3.74634</td>\n",
       "      <td>1.24878</td>\n",
       "      <td>0.49951</td>\n",
       "      <td>0.000095</td>\n",
       "      <td>34.34146</td>\n",
       "      <td>43.33268</td>\n",
       "      <td>49.95122</td>\n",
       "      <td>49.95122</td>\n",
       "    </tr>\n",
       "    <tr>\n",
       "      <th>2</th>\n",
       "      <td>W</td>\n",
       "      <td>0.00036</td>\n",
       "      <td>9.74049</td>\n",
       "      <td>17.98244</td>\n",
       "      <td>17.48293</td>\n",
       "      <td>8.74146</td>\n",
       "      <td>0.00047</td>\n",
       "      <td>17.60780</td>\n",
       "      <td>25.47512</td>\n",
       "      <td>28.22244</td>\n",
       "      <td>...</td>\n",
       "      <td>0.00230</td>\n",
       "      <td>0.62439</td>\n",
       "      <td>5.24488</td>\n",
       "      <td>2.12293</td>\n",
       "      <td>0.62439</td>\n",
       "      <td>0.000074</td>\n",
       "      <td>34.59122</td>\n",
       "      <td>45.95512</td>\n",
       "      <td>49.95122</td>\n",
       "      <td>49.95122</td>\n",
       "    </tr>\n",
       "    <tr>\n",
       "      <th>3</th>\n",
       "      <td>W</td>\n",
       "      <td>0.00035</td>\n",
       "      <td>10.11512</td>\n",
       "      <td>17.60780</td>\n",
       "      <td>17.10829</td>\n",
       "      <td>9.61561</td>\n",
       "      <td>0.00047</td>\n",
       "      <td>17.35805</td>\n",
       "      <td>26.47415</td>\n",
       "      <td>28.72195</td>\n",
       "      <td>...</td>\n",
       "      <td>0.00091</td>\n",
       "      <td>0.87415</td>\n",
       "      <td>6.61854</td>\n",
       "      <td>3.12195</td>\n",
       "      <td>0.62439</td>\n",
       "      <td>0.000082</td>\n",
       "      <td>32.46829</td>\n",
       "      <td>43.95707</td>\n",
       "      <td>49.95122</td>\n",
       "      <td>49.95122</td>\n",
       "    </tr>\n",
       "    <tr>\n",
       "      <th>4</th>\n",
       "      <td>W</td>\n",
       "      <td>0.00033</td>\n",
       "      <td>9.74049</td>\n",
       "      <td>17.60780</td>\n",
       "      <td>17.23317</td>\n",
       "      <td>8.11707</td>\n",
       "      <td>0.00043</td>\n",
       "      <td>17.23317</td>\n",
       "      <td>25.84976</td>\n",
       "      <td>28.09756</td>\n",
       "      <td>...</td>\n",
       "      <td>0.00175</td>\n",
       "      <td>0.49951</td>\n",
       "      <td>5.74439</td>\n",
       "      <td>2.24780</td>\n",
       "      <td>0.49951</td>\n",
       "      <td>0.000077</td>\n",
       "      <td>33.59220</td>\n",
       "      <td>44.83122</td>\n",
       "      <td>49.95122</td>\n",
       "      <td>49.95122</td>\n",
       "    </tr>\n",
       "    <tr>\n",
       "      <th>...</th>\n",
       "      <td>...</td>\n",
       "      <td>...</td>\n",
       "      <td>...</td>\n",
       "      <td>...</td>\n",
       "      <td>...</td>\n",
       "      <td>...</td>\n",
       "      <td>...</td>\n",
       "      <td>...</td>\n",
       "      <td>...</td>\n",
       "      <td>...</td>\n",
       "      <td>...</td>\n",
       "      <td>...</td>\n",
       "      <td>...</td>\n",
       "      <td>...</td>\n",
       "      <td>...</td>\n",
       "      <td>...</td>\n",
       "      <td>...</td>\n",
       "      <td>...</td>\n",
       "      <td>...</td>\n",
       "      <td>...</td>\n",
       "      <td>...</td>\n",
       "    </tr>\n",
       "    <tr>\n",
       "      <th>108446</th>\n",
       "      <td>N1</td>\n",
       "      <td>0.00031</td>\n",
       "      <td>10.11512</td>\n",
       "      <td>17.48293</td>\n",
       "      <td>16.85854</td>\n",
       "      <td>10.11512</td>\n",
       "      <td>0.00039</td>\n",
       "      <td>16.73366</td>\n",
       "      <td>24.97561</td>\n",
       "      <td>26.97366</td>\n",
       "      <td>...</td>\n",
       "      <td>0.00101</td>\n",
       "      <td>1.12390</td>\n",
       "      <td>6.99317</td>\n",
       "      <td>3.74634</td>\n",
       "      <td>0.49951</td>\n",
       "      <td>0.000063</td>\n",
       "      <td>29.09659</td>\n",
       "      <td>37.58829</td>\n",
       "      <td>45.20585</td>\n",
       "      <td>24.22634</td>\n",
       "    </tr>\n",
       "    <tr>\n",
       "      <th>108447</th>\n",
       "      <td>N1</td>\n",
       "      <td>0.00042</td>\n",
       "      <td>9.99024</td>\n",
       "      <td>16.35902</td>\n",
       "      <td>15.85951</td>\n",
       "      <td>9.86537</td>\n",
       "      <td>0.00044</td>\n",
       "      <td>15.73463</td>\n",
       "      <td>24.85073</td>\n",
       "      <td>26.47415</td>\n",
       "      <td>...</td>\n",
       "      <td>0.00426</td>\n",
       "      <td>1.12390</td>\n",
       "      <td>5.24488</td>\n",
       "      <td>2.24780</td>\n",
       "      <td>1.24878</td>\n",
       "      <td>0.000065</td>\n",
       "      <td>29.59610</td>\n",
       "      <td>39.08683</td>\n",
       "      <td>47.57854</td>\n",
       "      <td>24.97561</td>\n",
       "    </tr>\n",
       "    <tr>\n",
       "      <th>108448</th>\n",
       "      <td>N1</td>\n",
       "      <td>0.00040</td>\n",
       "      <td>9.86537</td>\n",
       "      <td>15.73463</td>\n",
       "      <td>14.98537</td>\n",
       "      <td>10.36488</td>\n",
       "      <td>0.00037</td>\n",
       "      <td>14.48585</td>\n",
       "      <td>22.72780</td>\n",
       "      <td>24.10146</td>\n",
       "      <td>...</td>\n",
       "      <td>0.00116</td>\n",
       "      <td>0.87415</td>\n",
       "      <td>7.36780</td>\n",
       "      <td>3.99610</td>\n",
       "      <td>0.74927</td>\n",
       "      <td>0.000041</td>\n",
       "      <td>27.09854</td>\n",
       "      <td>36.58927</td>\n",
       "      <td>43.08293</td>\n",
       "      <td>21.10439</td>\n",
       "    </tr>\n",
       "    <tr>\n",
       "      <th>108449</th>\n",
       "      <td>W</td>\n",
       "      <td>0.00051</td>\n",
       "      <td>10.11512</td>\n",
       "      <td>17.85756</td>\n",
       "      <td>17.48293</td>\n",
       "      <td>11.61366</td>\n",
       "      <td>0.00075</td>\n",
       "      <td>19.73073</td>\n",
       "      <td>29.72098</td>\n",
       "      <td>32.96780</td>\n",
       "      <td>...</td>\n",
       "      <td>0.00508</td>\n",
       "      <td>0.87415</td>\n",
       "      <td>5.36976</td>\n",
       "      <td>1.99805</td>\n",
       "      <td>0.99902</td>\n",
       "      <td>0.000240</td>\n",
       "      <td>35.71512</td>\n",
       "      <td>41.83415</td>\n",
       "      <td>50.70049</td>\n",
       "      <td>38.21268</td>\n",
       "    </tr>\n",
       "    <tr>\n",
       "      <th>108450</th>\n",
       "      <td>W</td>\n",
       "      <td>0.00128</td>\n",
       "      <td>10.61463</td>\n",
       "      <td>21.47902</td>\n",
       "      <td>21.35415</td>\n",
       "      <td>8.24195</td>\n",
       "      <td>0.00304</td>\n",
       "      <td>23.22732</td>\n",
       "      <td>33.21756</td>\n",
       "      <td>38.08780</td>\n",
       "      <td>...</td>\n",
       "      <td>0.02494</td>\n",
       "      <td>0.87415</td>\n",
       "      <td>4.49561</td>\n",
       "      <td>2.12293</td>\n",
       "      <td>0.49951</td>\n",
       "      <td>0.001630</td>\n",
       "      <td>37.96293</td>\n",
       "      <td>43.33268</td>\n",
       "      <td>52.32390</td>\n",
       "      <td>38.08780</td>\n",
       "    </tr>\n",
       "  </tbody>\n",
       "</table>\n",
       "<p>108451 rows × 76 columns</p>\n",
       "</div>"
      ],
      "text/plain": [
       "       Sleep_Stage  MeanP_Alpha_F4  MedianF_Alpha_F4  MeanF_Alpha_F4  \\\n",
       "0                W         0.00051           8.74146        18.48195   \n",
       "1                W         0.00040          10.24000        17.48293   \n",
       "2                W         0.00036           9.74049        17.98244   \n",
       "3                W         0.00035          10.11512        17.60780   \n",
       "4                W         0.00033           9.74049        17.60780   \n",
       "...            ...             ...               ...             ...   \n",
       "108446          N1         0.00031          10.11512        17.48293   \n",
       "108447          N1         0.00042           9.99024        16.35902   \n",
       "108448          N1         0.00040           9.86537        15.73463   \n",
       "108449           W         0.00051          10.11512        17.85756   \n",
       "108450           W         0.00128          10.61463        21.47902   \n",
       "\n",
       "        Spectral Edge_Alpha_F4  PeakF_Alpha_F4  MeanP_Beta_F4  \\\n",
       "0                     17.48293         8.24195        0.00071   \n",
       "1                     16.85854        10.61463        0.00051   \n",
       "2                     17.48293         8.74146        0.00047   \n",
       "3                     17.10829         9.61561        0.00047   \n",
       "4                     17.23317         8.11707        0.00043   \n",
       "...                        ...             ...            ...   \n",
       "108446                16.85854        10.11512        0.00039   \n",
       "108447                15.85951         9.86537        0.00044   \n",
       "108448                14.98537        10.36488        0.00037   \n",
       "108449                17.48293        11.61366        0.00075   \n",
       "108450                21.35415         8.24195        0.00304   \n",
       "\n",
       "        MedianF_Beta_F4  MeanF_Beta_F4  Spectral Edge_Beta_F4  ...  \\\n",
       "0              19.73073       29.84585               33.84195  ...   \n",
       "1              17.23317       26.34927               29.34634  ...   \n",
       "2              17.60780       25.47512               28.22244  ...   \n",
       "3              17.35805       26.47415               28.72195  ...   \n",
       "4              17.23317       25.84976               28.09756  ...   \n",
       "...                 ...            ...                    ...  ...   \n",
       "108446         16.73366       24.97561               26.97366  ...   \n",
       "108447         15.73463       24.85073               26.47415  ...   \n",
       "108448         14.48585       22.72780               24.10146  ...   \n",
       "108449         19.73073       29.72098               32.96780  ...   \n",
       "108450         23.22732       33.21756               38.08780  ...   \n",
       "\n",
       "        MeanP_Delta_O2  MedianF_Delta_O2  MeanF_Delta_O2  \\\n",
       "0              0.00724           0.74927         3.87122   \n",
       "1              0.00723           0.49951         3.74634   \n",
       "2              0.00230           0.62439         5.24488   \n",
       "3              0.00091           0.87415         6.61854   \n",
       "4              0.00175           0.49951         5.74439   \n",
       "...                ...               ...             ...   \n",
       "108446         0.00101           1.12390         6.99317   \n",
       "108447         0.00426           1.12390         5.24488   \n",
       "108448         0.00116           0.87415         7.36780   \n",
       "108449         0.00508           0.87415         5.36976   \n",
       "108450         0.02494           0.87415         4.49561   \n",
       "\n",
       "        Spectral Edge_Delta_O2  PeakF_Delta_O2  MeanP_Gamma_O2  \\\n",
       "0                      1.99805         0.87415        0.000210   \n",
       "1                      1.24878         0.49951        0.000095   \n",
       "2                      2.12293         0.62439        0.000074   \n",
       "3                      3.12195         0.62439        0.000082   \n",
       "4                      2.24780         0.49951        0.000077   \n",
       "...                        ...             ...             ...   \n",
       "108446                 3.74634         0.49951        0.000063   \n",
       "108447                 2.24780         1.24878        0.000065   \n",
       "108448                 3.99610         0.74927        0.000041   \n",
       "108449                 1.99805         0.99902        0.000240   \n",
       "108450                 2.12293         0.49951        0.001630   \n",
       "\n",
       "        MedianF_Gamma_O2  MeanF_Gamma_O2  Spectral Edge_Gamma_O2  \\\n",
       "0               35.21561        42.20878                49.95122   \n",
       "1               34.34146        43.33268                49.95122   \n",
       "2               34.59122        45.95512                49.95122   \n",
       "3               32.46829        43.95707                49.95122   \n",
       "4               33.59220        44.83122                49.95122   \n",
       "...                  ...             ...                     ...   \n",
       "108446          29.09659        37.58829                45.20585   \n",
       "108447          29.59610        39.08683                47.57854   \n",
       "108448          27.09854        36.58927                43.08293   \n",
       "108449          35.71512        41.83415                50.70049   \n",
       "108450          37.96293        43.33268                52.32390   \n",
       "\n",
       "        PeakF_Gamma_O2  \n",
       "0             49.95122  \n",
       "1             49.95122  \n",
       "2             49.95122  \n",
       "3             49.95122  \n",
       "4             49.95122  \n",
       "...                ...  \n",
       "108446        24.22634  \n",
       "108447        24.97561  \n",
       "108448        21.10439  \n",
       "108449        38.21268  \n",
       "108450        38.08780  \n",
       "\n",
       "[108451 rows x 76 columns]"
      ]
     },
     "execution_count": 4,
     "metadata": {},
     "output_type": "execute_result"
    }
   ],
   "source": [
    "df"
   ]
  },
  {
   "cell_type": "code",
   "execution_count": 5,
   "id": "796bb05a",
   "metadata": {},
   "outputs": [
    {
     "data": {
      "text/plain": [
       "Index(['Sleep_Stage', 'MeanP_Alpha_F4', 'MedianF_Alpha_F4', 'MeanF_Alpha_F4',\n",
       "       'Spectral Edge_Alpha_F4', 'PeakF_Alpha_F4', 'MeanP_Beta_F4',\n",
       "       'MedianF_Beta_F4', 'MeanF_Beta_F4', 'Spectral Edge_Beta_F4',\n",
       "       'PeakF_Beta_F4', 'MeanP_Theta_F4', 'MedianF_Theta_F4', 'MeanF_Theta_F4',\n",
       "       'Spectral Edge_Theta_F4', 'PeakF_Theta_F4', 'MeanP_Delta_F4',\n",
       "       'MedianF_Delta_F4', 'MeanF_Delta_F4', 'Spectral Edge_Delta_F4',\n",
       "       'PeakF_Delta_F4', 'MeanP_Gamma_F4', 'MedianF_Gamma_F4',\n",
       "       'MeanF_Gamma_F4', 'Spectral Edge_Gamma_F4', 'PeakF_Gamma_F4',\n",
       "       'MeanP_Alpha_C4', 'MedianF_Alpha_C4', 'MeanF_Alpha_C4',\n",
       "       'Spectral Edge_Alpha_C4', 'PeakF_Alpha_C4', 'MeanP_Beta_C4',\n",
       "       'MedianF_Beta_C4', 'MeanF_Beta_C4', 'Spectral Edge_Beta_C4',\n",
       "       'PeakF_Beta_C4', 'MeanP_Theta_C4', 'MedianF_Theta_C4', 'MeanF_Theta_C4',\n",
       "       'Spectral Edge_Theta_C4', 'PeakF_Theta_C4', 'MeanP_Delta_C4',\n",
       "       'MedianF_Delta_C4', 'MeanF_Delta_C4', 'Spectral Edge_Delta_C4',\n",
       "       'PeakF_Delta_C4', 'MeanP_Gamma_C4', 'MedianF_Gamma_C4',\n",
       "       'MeanF_Gamma_C4', 'Spectral Edge_Gamma_C4', 'PeakF_Gamma_C4',\n",
       "       'MeanP_Alpha_O2', 'MedianF_Alpha_O2', 'MeanF_Alpha_O2',\n",
       "       'Spectral Edge_Alpha_O2', 'PeakF_Alpha_O2', 'MeanP_Beta_O2',\n",
       "       'MedianF_Beta_O2', 'MeanF_Beta_O2', 'Spectral Edge_Beta_O2',\n",
       "       'PeakF_Beta_O2', 'MeanP_Theta_O2', 'MedianF_Theta_O2', 'MeanF_Theta_O2',\n",
       "       'Spectral Edge_Theta_O2', 'PeakF_Theta_O2', 'MeanP_Delta_O2',\n",
       "       'MedianF_Delta_O2', 'MeanF_Delta_O2', 'Spectral Edge_Delta_O2',\n",
       "       'PeakF_Delta_O2', 'MeanP_Gamma_O2', 'MedianF_Gamma_O2',\n",
       "       'MeanF_Gamma_O2', 'Spectral Edge_Gamma_O2', 'PeakF_Gamma_O2'],\n",
       "      dtype='object')"
      ]
     },
     "execution_count": 5,
     "metadata": {},
     "output_type": "execute_result"
    }
   ],
   "source": [
    "df.columns"
   ]
  },
  {
   "cell_type": "code",
   "execution_count": 8,
   "id": "eb3d6ac6",
   "metadata": {},
   "outputs": [
    {
     "data": {
      "text/plain": [
       "['Sleep_Stage',\n",
       " 'MeanP_Alpha_F4',\n",
       " 'MedianF_Alpha_F4',\n",
       " 'MeanF_Alpha_F4',\n",
       " 'Spectral Edge_Alpha_F4',\n",
       " 'PeakF_Alpha_F4',\n",
       " 'MeanP_Beta_F4',\n",
       " 'MedianF_Beta_F4',\n",
       " 'MeanF_Beta_F4',\n",
       " 'Spectral Edge_Beta_F4',\n",
       " 'PeakF_Beta_F4',\n",
       " 'MeanP_Theta_F4',\n",
       " 'MedianF_Theta_F4',\n",
       " 'MeanF_Theta_F4',\n",
       " 'Spectral Edge_Theta_F4',\n",
       " 'PeakF_Theta_F4',\n",
       " 'MeanP_Delta_F4',\n",
       " 'MedianF_Delta_F4',\n",
       " 'MeanF_Delta_F4',\n",
       " 'Spectral Edge_Delta_F4',\n",
       " 'PeakF_Delta_F4',\n",
       " 'MeanP_Gamma_F4',\n",
       " 'MedianF_Gamma_F4',\n",
       " 'MeanF_Gamma_F4',\n",
       " 'Spectral Edge_Gamma_F4',\n",
       " 'PeakF_Gamma_F4',\n",
       " 'MeanP_Alpha_C4',\n",
       " 'MedianF_Alpha_C4',\n",
       " 'MeanF_Alpha_C4',\n",
       " 'Spectral Edge_Alpha_C4',\n",
       " 'PeakF_Alpha_C4',\n",
       " 'MeanP_Beta_C4',\n",
       " 'MedianF_Beta_C4',\n",
       " 'MeanF_Beta_C4',\n",
       " 'Spectral Edge_Beta_C4',\n",
       " 'PeakF_Beta_C4',\n",
       " 'MeanP_Theta_C4',\n",
       " 'MedianF_Theta_C4',\n",
       " 'MeanF_Theta_C4',\n",
       " 'Spectral Edge_Theta_C4',\n",
       " 'PeakF_Theta_C4',\n",
       " 'MeanP_Delta_C4',\n",
       " 'MedianF_Delta_C4',\n",
       " 'MeanF_Delta_C4',\n",
       " 'Spectral Edge_Delta_C4',\n",
       " 'PeakF_Delta_C4',\n",
       " 'MeanP_Gamma_C4',\n",
       " 'MedianF_Gamma_C4',\n",
       " 'MeanF_Gamma_C4',\n",
       " 'Spectral Edge_Gamma_C4',\n",
       " 'PeakF_Gamma_C4',\n",
       " 'MeanP_Alpha_O2',\n",
       " 'MedianF_Alpha_O2',\n",
       " 'MeanF_Alpha_O2',\n",
       " 'Spectral Edge_Alpha_O2',\n",
       " 'PeakF_Alpha_O2',\n",
       " 'MeanP_Beta_O2',\n",
       " 'MedianF_Beta_O2',\n",
       " 'MeanF_Beta_O2',\n",
       " 'Spectral Edge_Beta_O2',\n",
       " 'PeakF_Beta_O2',\n",
       " 'MeanP_Theta_O2',\n",
       " 'MedianF_Theta_O2',\n",
       " 'MeanF_Theta_O2',\n",
       " 'Spectral Edge_Theta_O2',\n",
       " 'PeakF_Theta_O2',\n",
       " 'MeanP_Delta_O2',\n",
       " 'MedianF_Delta_O2',\n",
       " 'MeanF_Delta_O2',\n",
       " 'Spectral Edge_Delta_O2',\n",
       " 'PeakF_Delta_O2',\n",
       " 'MeanP_Gamma_O2',\n",
       " 'MedianF_Gamma_O2',\n",
       " 'MeanF_Gamma_O2',\n",
       " 'Spectral Edge_Gamma_O2',\n",
       " 'PeakF_Gamma_O2']"
      ]
     },
     "execution_count": 8,
     "metadata": {},
     "output_type": "execute_result"
    }
   ],
   "source": [
    "list(df.columns)"
   ]
  },
  {
   "cell_type": "code",
   "execution_count": 9,
   "id": "4b38eade",
   "metadata": {},
   "outputs": [],
   "source": [
    "col_list = list(df.columns)"
   ]
  },
  {
   "cell_type": "markdown",
   "id": "73728f91",
   "metadata": {},
   "source": [
    "## Separating column which will be X and Y"
   ]
  },
  {
   "cell_type": "code",
   "execution_count": 13,
   "id": "fd73098a",
   "metadata": {},
   "outputs": [
    {
     "data": {
      "text/plain": [
       "'Sleep_Stage'"
      ]
     },
     "execution_count": 13,
     "metadata": {},
     "output_type": "execute_result"
    }
   ],
   "source": [
    "col_list[0]"
   ]
  },
  {
   "cell_type": "code",
   "execution_count": 12,
   "id": "6c5eef6b",
   "metadata": {},
   "outputs": [
    {
     "data": {
      "text/plain": [
       "['MeanP_Alpha_F4',\n",
       " 'MedianF_Alpha_F4',\n",
       " 'MeanF_Alpha_F4',\n",
       " 'Spectral Edge_Alpha_F4',\n",
       " 'PeakF_Alpha_F4',\n",
       " 'MeanP_Beta_F4',\n",
       " 'MedianF_Beta_F4',\n",
       " 'MeanF_Beta_F4',\n",
       " 'Spectral Edge_Beta_F4',\n",
       " 'PeakF_Beta_F4',\n",
       " 'MeanP_Theta_F4',\n",
       " 'MedianF_Theta_F4',\n",
       " 'MeanF_Theta_F4',\n",
       " 'Spectral Edge_Theta_F4',\n",
       " 'PeakF_Theta_F4',\n",
       " 'MeanP_Delta_F4',\n",
       " 'MedianF_Delta_F4',\n",
       " 'MeanF_Delta_F4',\n",
       " 'Spectral Edge_Delta_F4',\n",
       " 'PeakF_Delta_F4',\n",
       " 'MeanP_Gamma_F4',\n",
       " 'MedianF_Gamma_F4',\n",
       " 'MeanF_Gamma_F4',\n",
       " 'Spectral Edge_Gamma_F4',\n",
       " 'PeakF_Gamma_F4',\n",
       " 'MeanP_Alpha_C4',\n",
       " 'MedianF_Alpha_C4',\n",
       " 'MeanF_Alpha_C4',\n",
       " 'Spectral Edge_Alpha_C4',\n",
       " 'PeakF_Alpha_C4',\n",
       " 'MeanP_Beta_C4',\n",
       " 'MedianF_Beta_C4',\n",
       " 'MeanF_Beta_C4',\n",
       " 'Spectral Edge_Beta_C4',\n",
       " 'PeakF_Beta_C4',\n",
       " 'MeanP_Theta_C4',\n",
       " 'MedianF_Theta_C4',\n",
       " 'MeanF_Theta_C4',\n",
       " 'Spectral Edge_Theta_C4',\n",
       " 'PeakF_Theta_C4',\n",
       " 'MeanP_Delta_C4',\n",
       " 'MedianF_Delta_C4',\n",
       " 'MeanF_Delta_C4',\n",
       " 'Spectral Edge_Delta_C4',\n",
       " 'PeakF_Delta_C4',\n",
       " 'MeanP_Gamma_C4',\n",
       " 'MedianF_Gamma_C4',\n",
       " 'MeanF_Gamma_C4',\n",
       " 'Spectral Edge_Gamma_C4',\n",
       " 'PeakF_Gamma_C4',\n",
       " 'MeanP_Alpha_O2',\n",
       " 'MedianF_Alpha_O2',\n",
       " 'MeanF_Alpha_O2',\n",
       " 'Spectral Edge_Alpha_O2',\n",
       " 'PeakF_Alpha_O2',\n",
       " 'MeanP_Beta_O2',\n",
       " 'MedianF_Beta_O2',\n",
       " 'MeanF_Beta_O2',\n",
       " 'Spectral Edge_Beta_O2',\n",
       " 'PeakF_Beta_O2',\n",
       " 'MeanP_Theta_O2',\n",
       " 'MedianF_Theta_O2',\n",
       " 'MeanF_Theta_O2',\n",
       " 'Spectral Edge_Theta_O2',\n",
       " 'PeakF_Theta_O2',\n",
       " 'MeanP_Delta_O2',\n",
       " 'MedianF_Delta_O2',\n",
       " 'MeanF_Delta_O2',\n",
       " 'Spectral Edge_Delta_O2',\n",
       " 'PeakF_Delta_O2',\n",
       " 'MeanP_Gamma_O2',\n",
       " 'MedianF_Gamma_O2',\n",
       " 'MeanF_Gamma_O2',\n",
       " 'Spectral Edge_Gamma_O2',\n",
       " 'PeakF_Gamma_O2']"
      ]
     },
     "execution_count": 12,
     "metadata": {},
     "output_type": "execute_result"
    }
   ],
   "source": [
    "col_list[1:]"
   ]
  },
  {
   "cell_type": "code",
   "execution_count": 6,
   "id": "e23e1a69",
   "metadata": {},
   "outputs": [
    {
     "data": {
      "text/plain": [
       "(108451, 76)"
      ]
     },
     "execution_count": 6,
     "metadata": {},
     "output_type": "execute_result"
    }
   ],
   "source": [
    "df.shape"
   ]
  },
  {
   "cell_type": "code",
   "execution_count": 7,
   "id": "da4655a4",
   "metadata": {},
   "outputs": [
    {
     "name": "stdout",
     "output_type": "stream",
     "text": [
      "<class 'pandas.core.frame.DataFrame'>\n",
      "RangeIndex: 108451 entries, 0 to 108450\n",
      "Data columns (total 76 columns):\n",
      " #   Column                  Non-Null Count   Dtype  \n",
      "---  ------                  --------------   -----  \n",
      " 0   Sleep_Stage             108451 non-null  object \n",
      " 1   MeanP_Alpha_F4          108451 non-null  float64\n",
      " 2   MedianF_Alpha_F4        108451 non-null  float64\n",
      " 3   MeanF_Alpha_F4          108451 non-null  float64\n",
      " 4   Spectral Edge_Alpha_F4  108451 non-null  float64\n",
      " 5   PeakF_Alpha_F4          108451 non-null  float64\n",
      " 6   MeanP_Beta_F4           108451 non-null  float64\n",
      " 7   MedianF_Beta_F4         108451 non-null  float64\n",
      " 8   MeanF_Beta_F4           108451 non-null  float64\n",
      " 9   Spectral Edge_Beta_F4   108451 non-null  float64\n",
      " 10  PeakF_Beta_F4           108451 non-null  float64\n",
      " 11  MeanP_Theta_F4          108451 non-null  float64\n",
      " 12  MedianF_Theta_F4        108451 non-null  float64\n",
      " 13  MeanF_Theta_F4          108451 non-null  float64\n",
      " 14  Spectral Edge_Theta_F4  108451 non-null  float64\n",
      " 15  PeakF_Theta_F4          108451 non-null  float64\n",
      " 16  MeanP_Delta_F4          108451 non-null  float64\n",
      " 17  MedianF_Delta_F4        108451 non-null  float64\n",
      " 18  MeanF_Delta_F4          108451 non-null  float64\n",
      " 19  Spectral Edge_Delta_F4  108451 non-null  float64\n",
      " 20  PeakF_Delta_F4          108451 non-null  float64\n",
      " 21  MeanP_Gamma_F4          108451 non-null  float64\n",
      " 22  MedianF_Gamma_F4        108451 non-null  float64\n",
      " 23  MeanF_Gamma_F4          108451 non-null  float64\n",
      " 24  Spectral Edge_Gamma_F4  108451 non-null  float64\n",
      " 25  PeakF_Gamma_F4          108451 non-null  float64\n",
      " 26  MeanP_Alpha_C4          108451 non-null  float64\n",
      " 27  MedianF_Alpha_C4        108451 non-null  float64\n",
      " 28  MeanF_Alpha_C4          108451 non-null  float64\n",
      " 29  Spectral Edge_Alpha_C4  108451 non-null  float64\n",
      " 30  PeakF_Alpha_C4          108451 non-null  float64\n",
      " 31  MeanP_Beta_C4           108451 non-null  float64\n",
      " 32  MedianF_Beta_C4         108451 non-null  float64\n",
      " 33  MeanF_Beta_C4           108451 non-null  float64\n",
      " 34  Spectral Edge_Beta_C4   108451 non-null  float64\n",
      " 35  PeakF_Beta_C4           108451 non-null  float64\n",
      " 36  MeanP_Theta_C4          108451 non-null  float64\n",
      " 37  MedianF_Theta_C4        108451 non-null  float64\n",
      " 38  MeanF_Theta_C4          108451 non-null  float64\n",
      " 39  Spectral Edge_Theta_C4  108451 non-null  float64\n",
      " 40  PeakF_Theta_C4          108451 non-null  float64\n",
      " 41  MeanP_Delta_C4          108451 non-null  float64\n",
      " 42  MedianF_Delta_C4        108451 non-null  float64\n",
      " 43  MeanF_Delta_C4          108451 non-null  float64\n",
      " 44  Spectral Edge_Delta_C4  108451 non-null  float64\n",
      " 45  PeakF_Delta_C4          108451 non-null  float64\n",
      " 46  MeanP_Gamma_C4          108451 non-null  float64\n",
      " 47  MedianF_Gamma_C4        108451 non-null  float64\n",
      " 48  MeanF_Gamma_C4          108451 non-null  float64\n",
      " 49  Spectral Edge_Gamma_C4  108451 non-null  float64\n",
      " 50  PeakF_Gamma_C4          108451 non-null  float64\n",
      " 51  MeanP_Alpha_O2          108451 non-null  float64\n",
      " 52  MedianF_Alpha_O2        108451 non-null  float64\n",
      " 53  MeanF_Alpha_O2          108451 non-null  float64\n",
      " 54  Spectral Edge_Alpha_O2  108451 non-null  float64\n",
      " 55  PeakF_Alpha_O2          108451 non-null  float64\n",
      " 56  MeanP_Beta_O2           108451 non-null  float64\n",
      " 57  MedianF_Beta_O2         108451 non-null  float64\n",
      " 58  MeanF_Beta_O2           108451 non-null  float64\n",
      " 59  Spectral Edge_Beta_O2   108451 non-null  float64\n",
      " 60  PeakF_Beta_O2           108451 non-null  float64\n",
      " 61  MeanP_Theta_O2          108451 non-null  float64\n",
      " 62  MedianF_Theta_O2        108451 non-null  float64\n",
      " 63  MeanF_Theta_O2          108451 non-null  float64\n",
      " 64  Spectral Edge_Theta_O2  108451 non-null  float64\n",
      " 65  PeakF_Theta_O2          108451 non-null  float64\n",
      " 66  MeanP_Delta_O2          108451 non-null  float64\n",
      " 67  MedianF_Delta_O2        108451 non-null  float64\n",
      " 68  MeanF_Delta_O2          108451 non-null  float64\n",
      " 69  Spectral Edge_Delta_O2  108451 non-null  float64\n",
      " 70  PeakF_Delta_O2          108451 non-null  float64\n",
      " 71  MeanP_Gamma_O2          108451 non-null  float64\n",
      " 72  MedianF_Gamma_O2        108451 non-null  float64\n",
      " 73  MeanF_Gamma_O2          108451 non-null  float64\n",
      " 74  Spectral Edge_Gamma_O2  108451 non-null  float64\n",
      " 75  PeakF_Gamma_O2          108451 non-null  float64\n",
      "dtypes: float64(75), object(1)\n",
      "memory usage: 62.9+ MB\n"
     ]
    }
   ],
   "source": [
    "df.info()"
   ]
  },
  {
   "cell_type": "markdown",
   "id": "e2b884bb",
   "metadata": {},
   "source": [
    "## Student Study Hours Data"
   ]
  },
  {
   "cell_type": "code",
   "execution_count": 17,
   "id": "3e7398d7",
   "metadata": {},
   "outputs": [
    {
     "data": {
      "text/html": [
       "<div>\n",
       "<style scoped>\n",
       "    .dataframe tbody tr th:only-of-type {\n",
       "        vertical-align: middle;\n",
       "    }\n",
       "\n",
       "    .dataframe tbody tr th {\n",
       "        vertical-align: top;\n",
       "    }\n",
       "\n",
       "    .dataframe thead th {\n",
       "        text-align: right;\n",
       "    }\n",
       "</style>\n",
       "<table border=\"1\" class=\"dataframe\">\n",
       "  <thead>\n",
       "    <tr style=\"text-align: right;\">\n",
       "      <th></th>\n",
       "      <th>Hours</th>\n",
       "      <th>Scores</th>\n",
       "    </tr>\n",
       "  </thead>\n",
       "  <tbody>\n",
       "    <tr>\n",
       "      <th>0</th>\n",
       "      <td>2.5</td>\n",
       "      <td>21</td>\n",
       "    </tr>\n",
       "    <tr>\n",
       "      <th>1</th>\n",
       "      <td>5.1</td>\n",
       "      <td>47</td>\n",
       "    </tr>\n",
       "    <tr>\n",
       "      <th>2</th>\n",
       "      <td>3.2</td>\n",
       "      <td>27</td>\n",
       "    </tr>\n",
       "    <tr>\n",
       "      <th>3</th>\n",
       "      <td>8.5</td>\n",
       "      <td>75</td>\n",
       "    </tr>\n",
       "    <tr>\n",
       "      <th>4</th>\n",
       "      <td>3.5</td>\n",
       "      <td>30</td>\n",
       "    </tr>\n",
       "    <tr>\n",
       "      <th>...</th>\n",
       "      <td>...</td>\n",
       "      <td>...</td>\n",
       "    </tr>\n",
       "    <tr>\n",
       "      <th>91</th>\n",
       "      <td>5.8</td>\n",
       "      <td>60</td>\n",
       "    </tr>\n",
       "    <tr>\n",
       "      <th>92</th>\n",
       "      <td>4.4</td>\n",
       "      <td>44</td>\n",
       "    </tr>\n",
       "    <tr>\n",
       "      <th>93</th>\n",
       "      <td>6.1</td>\n",
       "      <td>63</td>\n",
       "    </tr>\n",
       "    <tr>\n",
       "      <th>94</th>\n",
       "      <td>3.7</td>\n",
       "      <td>37</td>\n",
       "    </tr>\n",
       "    <tr>\n",
       "      <th>95</th>\n",
       "      <td>8.0</td>\n",
       "      <td>84</td>\n",
       "    </tr>\n",
       "  </tbody>\n",
       "</table>\n",
       "<p>96 rows × 2 columns</p>\n",
       "</div>"
      ],
      "text/plain": [
       "    Hours  Scores\n",
       "0     2.5      21\n",
       "1     5.1      47\n",
       "2     3.2      27\n",
       "3     8.5      75\n",
       "4     3.5      30\n",
       "..    ...     ...\n",
       "91    5.8      60\n",
       "92    4.4      44\n",
       "93    6.1      63\n",
       "94    3.7      37\n",
       "95    8.0      84\n",
       "\n",
       "[96 rows x 2 columns]"
      ]
     },
     "execution_count": 17,
     "metadata": {},
     "output_type": "execute_result"
    }
   ],
   "source": [
    "import pandas as pd\n",
    "\n",
    "df = pd.read_csv(r\"c:\\Users\\user\\Downloads\\Python\\score_updated.csv\")\n",
    "\n",
    "df"
   ]
  },
  {
   "cell_type": "code",
   "execution_count": 18,
   "id": "ba1d313d",
   "metadata": {},
   "outputs": [
    {
     "name": "stdout",
     "output_type": "stream",
     "text": [
      "<class 'pandas.core.frame.DataFrame'>\n",
      "RangeIndex: 96 entries, 0 to 95\n",
      "Data columns (total 2 columns):\n",
      " #   Column  Non-Null Count  Dtype  \n",
      "---  ------  --------------  -----  \n",
      " 0   Hours   96 non-null     float64\n",
      " 1   Scores  96 non-null     int64  \n",
      "dtypes: float64(1), int64(1)\n",
      "memory usage: 1.6 KB\n"
     ]
    }
   ],
   "source": [
    "df.info()"
   ]
  },
  {
   "cell_type": "markdown",
   "id": "376eb9cd",
   "metadata": {},
   "source": [
    "## Predicting the Study Score from Study Hours"
   ]
  },
  {
   "cell_type": "markdown",
   "id": "b4af8e6c",
   "metadata": {},
   "source": [
    "## Splitting X and Y variables"
   ]
  },
  {
   "cell_type": "code",
   "execution_count": 22,
   "id": "c6027447",
   "metadata": {},
   "outputs": [],
   "source": [
    "x = df[\"Hours\"].values\n",
    "y = df[\"Scores\"].values"
   ]
  },
  {
   "cell_type": "markdown",
   "id": "51ab0b4f",
   "metadata": {},
   "source": [
    "## Splitting Training and Testing Dataset"
   ]
  },
  {
   "cell_type": "code",
   "execution_count": 45,
   "id": "12480149",
   "metadata": {},
   "outputs": [],
   "source": [
    "from sklearn.model_selection import train_test_split\n",
    "\n",
    "x_train, x_test, y_train, y_test = train_test_split(x, y, test_size = 0.2, random_state=42)"
   ]
  },
  {
   "cell_type": "code",
   "execution_count": 40,
   "id": "822228a8",
   "metadata": {},
   "outputs": [
    {
     "data": {
      "text/plain": [
       "(76,)"
      ]
     },
     "execution_count": 40,
     "metadata": {},
     "output_type": "execute_result"
    }
   ],
   "source": [
    "x_train.shape"
   ]
  },
  {
   "cell_type": "code",
   "execution_count": 41,
   "id": "5521c048",
   "metadata": {},
   "outputs": [
    {
     "data": {
      "text/plain": [
       "(20,)"
      ]
     },
     "execution_count": 41,
     "metadata": {},
     "output_type": "execute_result"
    }
   ],
   "source": [
    "x_test.shape"
   ]
  },
  {
   "cell_type": "markdown",
   "id": "98f38ee5",
   "metadata": {},
   "source": [
    "## Reshaping (only x)"
   ]
  },
  {
   "cell_type": "code",
   "execution_count": 58,
   "id": "d5cf8c71",
   "metadata": {},
   "outputs": [
    {
     "data": {
      "text/plain": [
       "array([1.8, 9.6, 8.9, 6.8, 3. , 2.7, 4.4, 5.9, 4.1, 4.6, 2.3, 8.7, 4.3,\n",
       "       1.5, 7.3, 5.7, 2.2, 2.5, 3.1, 3.9, 5.5, 5.8, 5.8, 7.4, 5.6, 4.2,\n",
       "       7. , 3.3, 7.8, 8.5, 1.9, 5.3, 8.3, 1.2, 9.2, 3.4, 7.1, 4. , 8.4,\n",
       "       8. , 2.4, 3.7, 2.8, 8.2, 8. , 1.4, 9.3, 6.1, 9.7, 9.4, 5.2, 1.3,\n",
       "       6. , 1.7, 6.2, 9.8, 6.4, 2.1, 7.2, 6.3, 4.7, 5.1, 6.6, 4.8, 3.2,\n",
       "       6.9, 2. , 2.9, 6.8, 1. , 2.7, 7.6, 6.5, 1.1, 4.4, 7.9])"
      ]
     },
     "execution_count": 58,
     "metadata": {},
     "output_type": "execute_result"
    }
   ],
   "source": [
    "x_train"
   ]
  },
  {
   "cell_type": "code",
   "execution_count": 57,
   "id": "17557554",
   "metadata": {},
   "outputs": [
    {
     "data": {
      "text/plain": [
       "array([[1.8],\n",
       "       [9.6],\n",
       "       [8.9],\n",
       "       [6.8],\n",
       "       [3. ],\n",
       "       [2.7],\n",
       "       [4.4],\n",
       "       [5.9],\n",
       "       [4.1],\n",
       "       [4.6],\n",
       "       [2.3],\n",
       "       [8.7],\n",
       "       [4.3],\n",
       "       [1.5],\n",
       "       [7.3],\n",
       "       [5.7],\n",
       "       [2.2],\n",
       "       [2.5],\n",
       "       [3.1],\n",
       "       [3.9],\n",
       "       [5.5],\n",
       "       [5.8],\n",
       "       [5.8],\n",
       "       [7.4],\n",
       "       [5.6],\n",
       "       [4.2],\n",
       "       [7. ],\n",
       "       [3.3],\n",
       "       [7.8],\n",
       "       [8.5],\n",
       "       [1.9],\n",
       "       [5.3],\n",
       "       [8.3],\n",
       "       [1.2],\n",
       "       [9.2],\n",
       "       [3.4],\n",
       "       [7.1],\n",
       "       [4. ],\n",
       "       [8.4],\n",
       "       [8. ],\n",
       "       [2.4],\n",
       "       [3.7],\n",
       "       [2.8],\n",
       "       [8.2],\n",
       "       [8. ],\n",
       "       [1.4],\n",
       "       [9.3],\n",
       "       [6.1],\n",
       "       [9.7],\n",
       "       [9.4],\n",
       "       [5.2],\n",
       "       [1.3],\n",
       "       [6. ],\n",
       "       [1.7],\n",
       "       [6.2],\n",
       "       [9.8],\n",
       "       [6.4],\n",
       "       [2.1],\n",
       "       [7.2],\n",
       "       [6.3],\n",
       "       [4.7],\n",
       "       [5.1],\n",
       "       [6.6],\n",
       "       [4.8],\n",
       "       [3.2],\n",
       "       [6.9],\n",
       "       [2. ],\n",
       "       [2.9],\n",
       "       [6.8],\n",
       "       [1. ],\n",
       "       [2.7],\n",
       "       [7.6],\n",
       "       [6.5],\n",
       "       [1.1],\n",
       "       [4.4],\n",
       "       [7.9]])"
      ]
     },
     "execution_count": 57,
     "metadata": {},
     "output_type": "execute_result"
    }
   ],
   "source": [
    "x_train_reshaped = x_train.reshape(-1,1)\n",
    "\n",
    "x_train_reshaped"
   ]
  },
  {
   "cell_type": "markdown",
   "id": "c04e58b1",
   "metadata": {},
   "source": [
    "## Import the Linear Regression Function"
   ]
  },
  {
   "cell_type": "code",
   "execution_count": 25,
   "id": "350d40a9",
   "metadata": {},
   "outputs": [],
   "source": [
    "from sklearn.linear_model import LinearRegression"
   ]
  },
  {
   "cell_type": "markdown",
   "id": "b7877a2f",
   "metadata": {},
   "source": [
    "## Generate the Function for Finding the m and c value"
   ]
  },
  {
   "cell_type": "markdown",
   "id": "a5eb73de",
   "metadata": {},
   "source": [
    "### Training dataset "
   ]
  },
  {
   "cell_type": "code",
   "execution_count": 47,
   "id": "ed43bc1c",
   "metadata": {},
   "outputs": [
    {
     "name": "stdout",
     "output_type": "stream",
     "text": [
      "9.835635077805753\n",
      "2.4405655921340568\n"
     ]
    }
   ],
   "source": [
    "x = df[\"Hours\"].values\n",
    "y = df[\"Scores\"].values\n",
    "\n",
    "#reshaping\n",
    "x_train_reshaped = x_train.reshape(-1,1)\n",
    "x_test_reshaped = x_test.reshape(-1,1)\n",
    "\n",
    "#Model Declaration\n",
    "lin_model = LinearRegression()\n",
    "\n",
    "#Training\n",
    "lin_model.fit(x_train_reshaped, y_train)\n",
    "\n",
    "m_sk = lin_model.coef_[0]\n",
    "c_sk = lin_model.intercept_\n",
    "\n",
    "print(m_sk)\n",
    "print(c_sk)"
   ]
  },
  {
   "cell_type": "markdown",
   "id": "381c4757",
   "metadata": {},
   "source": [
    " ## <font color = red heart> Predicting the Y value from X value (MANUAL WAY) </font>"
   ]
  },
  {
   "cell_type": "code",
   "execution_count": 32,
   "id": "ae72ca47",
   "metadata": {},
   "outputs": [
    {
     "name": "stdout",
     "output_type": "stream",
     "text": [
      "62.26161800951831\n"
     ]
    }
   ],
   "source": [
    "hours = float(input())\n",
    "\n",
    "scores = hours * m_sk + c_sk\n",
    "\n",
    "print(scores)"
   ]
  },
  {
   "cell_type": "markdown",
   "id": "6c30b792",
   "metadata": {},
   "source": [
    " ## <font color = red heart> Predicting the Y value from X value (USING SKLEARN LIBRARY) </font>"
   ]
  },
  {
   "cell_type": "markdown",
   "id": "abc02d1a",
   "metadata": {},
   "source": [
    "### <b> Evaluation from Training Dataset </b>"
   ]
  },
  {
   "cell_type": "code",
   "execution_count": 60,
   "id": "86b4398b",
   "metadata": {},
   "outputs": [],
   "source": [
    "y_prediction_train = lin_model.predict(x_train_reshaped)"
   ]
  },
  {
   "cell_type": "code",
   "execution_count": 61,
   "id": "5ab9e5fc",
   "metadata": {},
   "outputs": [
    {
     "data": {
      "text/plain": [
       "array([20.14470873, 96.86266234, 89.97771778, 69.32288412, 31.94747083,\n",
       "       28.9967803 , 45.71735993, 60.47081255, 42.76666941, 47.68448695,\n",
       "       25.06252627, 88.01059077, 44.73379643, 17.19401821, 74.24070166,\n",
       "       58.50368554, 24.07896276, 27.02965329, 32.93103433, 40.7995424 ,\n",
       "       56.53655852, 59.48724904, 59.48724904, 75.22426517, 57.52012203,\n",
       "       43.75023292, 71.29001114, 34.89816135, 79.1585192 , 86.04346375,\n",
       "       21.12827224, 54.5694315 , 84.07633674, 14.24332769, 92.92840831,\n",
       "       35.88172486, 72.27357464, 41.7831059 , 85.05990025, 81.12564621,\n",
       "       26.04608978, 38.83241538, 29.98034381, 83.09277323, 81.12564621,\n",
       "       16.2104547 , 93.91197182, 62.43793957, 97.84622585, 94.89553532,\n",
       "       53.585868  , 15.22689119, 61.45437606, 19.16114522, 63.42150307,\n",
       "       98.82978935, 65.38863009, 23.09539926, 73.25713815, 64.40506658,\n",
       "       48.66805046, 52.60230449, 67.35575711, 49.65161397, 33.91459784,\n",
       "       70.30644763, 22.11183575, 30.96390732, 69.32288412, 12.27620067,\n",
       "       28.9967803 , 77.19139218, 66.3721936 , 13.25976418, 45.71735993,\n",
       "       80.14208271])"
      ]
     },
     "execution_count": 61,
     "metadata": {},
     "output_type": "execute_result"
    }
   ],
   "source": [
    "y_prediction_train"
   ]
  },
  {
   "cell_type": "code",
   "execution_count": null,
   "id": "993ef336",
   "metadata": {},
   "outputs": [
    {
     "data": {
      "text/plain": [
       "array([21, 98, 95, 74, 34, 25, 45, 62, 44, 48, 23, 87, 43, 20, 77, 59, 22,\n",
       "       30, 28, 38, 60, 60, 63, 69, 57, 49, 73, 42, 86, 75, 24, 56, 81, 14,\n",
       "       88, 33, 73, 40, 84, 84, 26, 37, 29, 83, 79, 15, 94, 63, 96, 93, 53,\n",
       "       16, 61, 18, 68, 99, 64, 20, 72, 66, 50, 47, 72, 54, 27, 76, 18, 31,\n",
       "       67, 12, 30, 78, 65, 17, 44, 80])"
      ]
     },
     "execution_count": 62,
     "metadata": {},
     "output_type": "execute_result"
    }
   ],
   "source": [
    "y_train"
   ]
  },
  {
   "cell_type": "markdown",
   "id": "7b51615a",
   "metadata": {},
   "source": [
    "### <b> Evaluation from Testing Dataset </b>"
   ]
  },
  {
   "cell_type": "code",
   "execution_count": 64,
   "id": "f7564826",
   "metadata": {},
   "outputs": [],
   "source": [
    "y_prediction_test = lin_model.predict(x_test_reshaped)"
   ]
  },
  {
   "cell_type": "code",
   "execution_count": 65,
   "id": "3c2b2b6d",
   "metadata": {},
   "outputs": [
    {
     "data": {
      "text/plain": [
       "array([28.01321679, 50.63517747, 31.94747083, 38.83241538, 82.10920972,\n",
       "       87.02702726, 76.20782868, 68.33932061, 27.02965329, 78.17495569,\n",
       "       55.55299501, 18.17758172, 62.43793957, 36.86528836, 90.96128129,\n",
       "       95.87909883, 46.70092344, 39.81597889, 37.84885187, 51.61874098])"
      ]
     },
     "execution_count": 65,
     "metadata": {},
     "output_type": "execute_result"
    }
   ],
   "source": [
    "y_prediction_test"
   ]
  },
  {
   "cell_type": "code",
   "execution_count": 66,
   "id": "816119d4",
   "metadata": {},
   "outputs": [
    {
     "data": {
      "text/plain": [
       "array([32, 51, 27, 37, 82, 89, 70, 71, 21, 85, 55, 19, 67, 30, 92, 90, 41,\n",
       "       35, 36, 52])"
      ]
     },
     "execution_count": 66,
     "metadata": {},
     "output_type": "execute_result"
    }
   ],
   "source": [
    "y_test"
   ]
  },
  {
   "cell_type": "markdown",
   "id": "7974cc0d",
   "metadata": {},
   "source": [
    "## <font color = yellow> <b> Mean_Absolute_Error, Mean_Squared_Error, R2 Score </b> </font>"
   ]
  },
  {
   "cell_type": "markdown",
   "id": "354c3975",
   "metadata": {},
   "source": [
    "### in Linear Regression --> R2 score is the accuracy score"
   ]
  },
  {
   "cell_type": "markdown",
   "id": "cc1ce72f",
   "metadata": {},
   "source": [
    "<font color = yellow> From the Testing dataset --> higher MAE and lower R2 </font>"
   ]
  },
  {
   "cell_type": "code",
   "execution_count": null,
   "metadata": {},
   "outputs": [],
   "source": []
  },
  {
   "cell_type": "code",
   "execution_count": 67,
   "id": "65595d2e",
   "metadata": {},
   "outputs": [
    {
     "name": "stdout",
     "output_type": "stream",
     "text": [
      "Mean Absolute Error: 3.3702236454952397\n",
      "Mean Squared Error 17.007444250866516\n",
      "R2 Score: 0.9708871356050831\n"
     ]
    }
   ],
   "source": [
    "from sklearn.metrics import mean_absolute_error, mean_squared_error, r2_score\n",
    "\n",
    "mae = mean_absolute_error(y_test, y_prediction_test)\n",
    "mse = mean_squared_error(y_test, y_prediction_test)\n",
    "r2 = r2_score(y_test, y_prediction_test)\n",
    "\n",
    "print(\"Mean Absolute Error:\", mae)\n",
    "print(\"Mean Squared Error\", mse)\n",
    "print(\"R2 Score:\", r2)\n"
   ]
  },
  {
   "cell_type": "markdown",
   "id": "86e65283",
   "metadata": {},
   "source": [
    "<font color = yellow> From the Testing dataset --> lower MAE and higher R2 </font>"
   ]
  },
  {
   "cell_type": "code",
   "execution_count": 68,
   "id": "64ebda4c",
   "metadata": {},
   "outputs": [
    {
     "name": "stdout",
     "output_type": "stream",
     "text": [
      "Mean Absolute Error: 2.4084933698218722\n",
      "Mean Squared Error 10.202649265960442\n",
      "R2 Score: 0.9837693861888686\n"
     ]
    }
   ],
   "source": [
    "from sklearn.metrics import mean_absolute_error, mean_squared_error, r2_score\n",
    "\n",
    "mae = mean_absolute_error(y_train, y_prediction_train)\n",
    "mse = mean_squared_error(y_train, y_prediction_train)\n",
    "r2 = r2_score(y_train, y_prediction_train)\n",
    "\n",
    "print(\"Mean Absolute Error:\", mae)\n",
    "print(\"Mean Squared Error\", mse)\n",
    "print(\"R2 Score:\", r2)"
   ]
  },
  {
   "cell_type": "markdown",
   "id": "1acdd2e6",
   "metadata": {},
   "source": [
    "## <font color = orange> <b> Predicting single value </font> </b>"
   ]
  },
  {
   "cell_type": "markdown",
   "id": "03679d68",
   "metadata": {},
   "source": [
    "using two brackets in data because in the reshaped dataset"
   ]
  },
  {
   "cell_type": "code",
   "execution_count": 70,
   "id": "87bb5785",
   "metadata": {},
   "outputs": [
    {
     "name": "stdout",
     "output_type": "stream",
     "text": [
      "The Predicted Score: [31.94747083]\n"
     ]
    }
   ],
   "source": [
    "data = float(input())\n",
    "\n",
    "single_prediction = lin_model.predict([[data]])\n",
    "\n",
    "print(\"The Predicted Score:\", single_prediction)\n",
    "\n"
   ]
  },
  {
   "cell_type": "markdown",
   "id": "8aeea46e",
   "metadata": {},
   "source": [
    "## <font color = pink> <b> Saving the Model </b> </font>"
   ]
  },
  {
   "cell_type": "code",
   "execution_count": 76,
   "id": "2db33e33",
   "metadata": {},
   "outputs": [
    {
     "data": {
      "text/plain": [
       "['LR_study_hours_score_SHA.pkl']"
      ]
     },
     "execution_count": 76,
     "metadata": {},
     "output_type": "execute_result"
    }
   ],
   "source": [
    "import joblib\n",
    "joblib.dump(lin_model, \"LR_study_hours_score_SHA.pkl\")"
   ]
  }
 ],
 "metadata": {
  "kernelspec": {
   "display_name": "sha",
   "language": "python",
   "name": "python3"
  },
  "language_info": {
   "codemirror_mode": {
    "name": "ipython",
    "version": 3
   },
   "file_extension": ".py",
   "mimetype": "text/x-python",
   "name": "python",
   "nbconvert_exporter": "python",
   "pygments_lexer": "ipython3",
   "version": "3.10.16"
  }
 },
 "nbformat": 4,
 "nbformat_minor": 5
}

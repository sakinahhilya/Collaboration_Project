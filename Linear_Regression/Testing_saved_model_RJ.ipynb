{
 "cells": [
  {
   "cell_type": "markdown",
   "id": "59485aac",
   "metadata": {},
   "source": [
    "## Loading Model"
   ]
  },
  {
   "cell_type": "code",
   "execution_count": 2,
   "id": "9f4c7b0f",
   "metadata": {},
   "outputs": [],
   "source": [
    "import joblib\n",
    "\n",
    "loaded_model = joblib.load(r\"C:\\Users\\user\\Downloads\\Python\\Collaboration_Project\\Code_From_RJ\\LR_study_hours_score_RJ.pkl\")"
   ]
  },
  {
   "cell_type": "code",
   "execution_count": 3,
   "id": "79502319",
   "metadata": {},
   "outputs": [
    {
     "name": "stdout",
     "output_type": "stream",
     "text": [
      "The Prediction: [31.94747083]\n"
     ]
    }
   ],
   "source": [
    "new_data = float(input())\n",
    "\n",
    "predicted_value = loaded_model.predict([[new_data]])\n",
    "\n",
    "print(\"The Prediction:\", predicted_value)"
   ]
  }
 ],
 "metadata": {
  "kernelspec": {
   "display_name": "sha",
   "language": "python",
   "name": "python3"
  },
  "language_info": {
   "codemirror_mode": {
    "name": "ipython",
    "version": 3
   },
   "file_extension": ".py",
   "mimetype": "text/x-python",
   "name": "python",
   "nbconvert_exporter": "python",
   "pygments_lexer": "ipython3",
   "version": "3.10.16"
  }
 },
 "nbformat": 4,
 "nbformat_minor": 5
}
